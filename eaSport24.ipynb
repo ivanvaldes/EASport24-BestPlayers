{
 "cells": [
  {
   "cell_type": "markdown",
   "metadata": {},
   "source": [
    "Packages required"
   ]
  },
  {
   "cell_type": "code",
   "execution_count": null,
   "metadata": {},
   "outputs": [],
   "source": [
    "#pip install pandas\n",
    "#pip install requests"
   ]
  },
  {
   "cell_type": "markdown",
   "metadata": {},
   "source": [
    "Imports"
   ]
  },
  {
   "cell_type": "code",
   "execution_count": 2,
   "metadata": {},
   "outputs": [],
   "source": [
    "import pandas as pd\n",
    "import urllib.request\n",
    "import json\n",
    "import os\n",
    "import shutil"
   ]
  },
  {
   "cell_type": "markdown",
   "metadata": {},
   "source": [
    "Get all players information"
   ]
  },
  {
   "cell_type": "code",
   "execution_count": 3,
   "metadata": {},
   "outputs": [],
   "source": [
    "#URL information\n",
    "url_base = 'https://drop-api.ea.com/rating/fc-24?locale=en'\n",
    "limit = 100\n",
    "offset = 0\n",
    "page = 1\n",
    "\n",
    "#Json information\n",
    "file_name = 'players-page'\n",
    "file_type = '.json'\n",
    "directory = 'players/'\n",
    "\n",
    "#Create folder\n",
    "if not os.path.exists(directory):\n",
    "    os.mkdir(directory)\n",
    "else:\n",
    "    shutil.rmtree(directory)\n",
    "    os.mkdir(directory)\n",
    "\n",
    "#Get all player information\n",
    "while True:\n",
    "    url = f'{url_base}&limit={limit}&offset={offset}'\n",
    "    response = urllib.request.urlopen(url)\n",
    "    data = json.loads(response.read())\n",
    "    \n",
    "    items = data['items']\n",
    "    \n",
    "    if len(items) == 0: #or offset == 200:\n",
    "        break  # Break the loop if there are no more items\n",
    "    \n",
    "    urllib.request.urlretrieve(url, f'{directory}{file_name}-{page}{file_type}') # Escribir una nueva línea para separar los items\n",
    "    \n",
    "    page += 1\n",
    "    offset += limit"
   ]
  },
  {
   "cell_type": "markdown",
   "metadata": {},
   "source": [
    "Create Dataframe"
   ]
  },
  {
   "cell_type": "code",
   "execution_count": 4,
   "metadata": {},
   "outputs": [
    {
     "data": {
      "text/plain": [
       "id                     17326\n",
       "rank                   17326\n",
       "overallRating          17326\n",
       "firstName              17326\n",
       "lastName               17326\n",
       "                       ...  \n",
       "stats.strength.diff    17326\n",
       "stats.vision.value     17326\n",
       "stats.vision.diff      17326\n",
       "stats.volleys.value    17326\n",
       "stats.volleys.diff     17326\n",
       "Length: 112, dtype: int64"
      ]
     },
     "execution_count": 4,
     "metadata": {},
     "output_type": "execute_result"
    }
   ],
   "source": [
    "#List to saved all dataframes\n",
    "dfs = []\n",
    "\n",
    "#Iterate over all json files\n",
    "for filename in os.listdir(directory):\n",
    "        #print(f'Processing file {filename}')\n",
    "        file_path = os.path.join(directory, filename)\n",
    "        \n",
    "        # Cargar el JSON\n",
    "        with open(file_path, 'r') as f:\n",
    "            data = json.load(f)\n",
    "        \n",
    "        # Crear DataFrame\n",
    "        df = pd.json_normalize(data['items'])\n",
    "                \n",
    "        # Agregar el DataFrame a la lista\n",
    "        dfs.append(df)\n",
    "\n",
    "#Concatenate all dataframes\n",
    "final_df = pd.concat(dfs, ignore_index=True)\n",
    "\n",
    "#Sort it by rank\n",
    "final_df= final_df.sort_values('rank')\n",
    "\n",
    "#Count it\n",
    "final_df.count()\n",
    "        "
   ]
  },
  {
   "cell_type": "markdown",
   "metadata": {},
   "source": [
    "Get Best player by position"
   ]
  },
  {
   "cell_type": "code",
   "execution_count": 5,
   "metadata": {},
   "outputs": [],
   "source": [
    "best_players_idx = final_df.groupby('position.shortLabel')['rank'].idxmin()\n",
    "best_players = final_df.loc[best_players_idx]\n",
    "\n",
    "#Select desired columns\n",
    "best_players = best_players.loc[:, ['rank', 'overallRating', 'firstName', 'lastName', 'commonName', 'birthdate', 'leagueName', 'nationality.label', 'team.label', 'position.shortLabel', 'position.label']]\n",
    "best_players = best_players.sort_values('rank')"
   ]
  },
  {
   "cell_type": "markdown",
   "metadata": {},
   "source": [
    "Display best players"
   ]
  },
  {
   "cell_type": "code",
   "execution_count": 6,
   "metadata": {},
   "outputs": [
    {
     "name": "stdout",
     "output_type": "stream",
     "text": [
      "+-------+------+---------------+-----------------+--------------------+-----------------+------------------------+--------------------+-------------------+-------------------+---------------------+-----------------------------+\n",
      "|       | rank | overallRating |    firstName    |      lastName      |   commonName    |       birthdate        |     leagueName     | nationality.label |    team.label     | position.shortLabel |       position.label        |\n",
      "+-------+------+---------------+-----------------+--------------------+-----------------+------------------------+--------------------+-------------------+-------------------+---------------------+-----------------------------+\n",
      "| 11726 |  1   |      91       |     Kylian      |       Mbappé       |                 | 12/20/1998 12:00:00 AM | Ligue 1 Uber Eats  |      France       |     Paris SG      |         ST          |           Striker           |\n",
      "| 11727 |  2   |      91       |     Alexia      |  Putellas Segura   | Alexia Putellas |  2/4/1994 12:00:00 AM  |       Liga F       |       Spain       |   FC Barcelona    |         CM          |      Center Midfielder      |\n",
      "| 11731 |  6   |      90       |     Lionel      |       Messi        |                 | 6/24/1987 12:00:00 AM  |        MLS         |     Argentina     |  Inter Miami CF   |         CF          |       Center Forward        |\n",
      "| 11734 |  9   |      90       |     Thibaut     |      Courtois      |                 | 5/11/1992 12:00:00 AM  |  LALIGA EA SPORTS  |      Belgium      |    Real Madrid    |         GK          |         Goalkeeper          |\n",
      "| 11736 |  11  |      90       | Caroline Graham |       Hansen       |                 | 2/18/1995 12:00:00 AM  |       Liga F       |      Norway       |   FC Barcelona    |         RW          |         Right Wing          |\n",
      "| 11740 |  15  |      89       |   María Pilar   |    León Cebrián    |    Mapi León    | 6/13/1995 12:00:00 AM  |       Liga F       |       Spain       |   FC Barcelona    |         CB          |         Center Back         |\n",
      "| 11742 |  17  |      89       |  Vinícius José  | de Oliveira Júnior |    Vini Jr.     | 7/12/2000 12:00:00 AM  |  LALIGA EA SPORTS  |      Brazil       |    Real Madrid    |         LW          |          Left Wing          |\n",
      "| 11743 |  18  |      89       |     Rodrigo     | Hernández Cascante |      Rodri      | 6/22/1996 12:00:00 AM  |   Premier League   |       Spain       |  Manchester City  |         CDM         | Center Defensive Midfielder |\n",
      "| 11752 |  27  |      88       |  Bruno Miguel   |  Borges Fernandes  | Bruno Fernandes |  9/8/1994 12:00:00 AM  |   Premier League   |     Portugal      |  Manchester Utd   |         CAM         | Center Attacking Midfielder |\n",
      "| 11768 |  43  |      87       |    Fridolina    |       Rolfö        |                 | 11/24/1993 12:00:00 AM |       Liga F       |      Sweden       |   FC Barcelona    |         LB          |          Left Back          |\n",
      "| 11770 |  45  |      87       |      Lucy       |       Bronze       |                 | 10/28/1991 12:00:00 AM |       Liga F       |      England      |   FC Barcelona    |         RB          |         Right Back          |\n",
      "| 11796 |  71  |      86       |      Riyad      |       Mahrez       |                 | 2/21/1991 12:00:00 AM  | ROSHN Saudi League |      Algeria      |      Al Ahli      |         RM          |      Right Midfielder       |\n",
      "|  110  | 101  |      85       |    Kingsley     |       Coman        |                 | 6/13/1996 12:00:00 AM  |     Bundesliga     |      France       | FC Bayern München |         LM          |       Left Midfielder       |\n",
      "|  175  | 147  |      84       |    Alejandro    |  Grimaldo García   |    Grimaldo     | 9/20/1995 12:00:00 AM  |     Bundesliga     |       Spain       |    Leverkusen     |         LWB         |       Left Wing Back        |\n",
      "| 12088 | 229  |      83       |     Jeremie     |      Frimpong      |                 | 12/10/2000 12:00:00 AM |     Bundesliga     |      Holland      |    Leverkusen     |         RWB         |       Right Wing Back       |\n",
      "+-------+------+---------------+-----------------+--------------------+-----------------+------------------------+--------------------+-------------------+-------------------+---------------------+-----------------------------+\n"
     ]
    }
   ],
   "source": [
    "from tabulate import tabulate\n",
    "\n",
    "table_string = tabulate(best_players, headers='keys', tablefmt='pretty')\n",
    "print(table_string)"
   ]
  }
 ],
 "metadata": {
  "kernelspec": {
   "display_name": "Python 3",
   "language": "python",
   "name": "python3"
  },
  "language_info": {
   "codemirror_mode": {
    "name": "ipython",
    "version": 3
   },
   "file_extension": ".py",
   "mimetype": "text/x-python",
   "name": "python",
   "nbconvert_exporter": "python",
   "pygments_lexer": "ipython3",
   "version": "3.10.12"
  }
 },
 "nbformat": 4,
 "nbformat_minor": 2
}
